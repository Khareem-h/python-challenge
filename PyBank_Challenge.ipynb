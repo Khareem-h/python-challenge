{
 "cells": [
  {
   "cell_type": "code",
   "execution_count": 85,
   "id": "7630fa3f-04a9-4640-bb11-ae16af1a660e",
   "metadata": {
    "tags": []
   },
   "outputs": [],
   "source": [
    "from pathlib import Path"
   ]
  },
  {
   "cell_type": "code",
   "execution_count": 86,
   "id": "2fbeb166-a67d-4f92-b380-01d36ea975f4",
   "metadata": {
    "tags": []
   },
   "outputs": [],
   "source": [
    "import csv"
   ]
  },
  {
   "cell_type": "code",
   "execution_count": 87,
   "id": "753afa00-1346-46a2-8575-2e4ccbd213ca",
   "metadata": {
    "tags": []
   },
   "outputs": [],
   "source": [
    "csvpath = Path(\"../Resources/budget_data.csv\")"
   ]
  },
  {
   "cell_type": "code",
   "execution_count": 172,
   "id": "b6aab0af-7bee-40d7-bee7-e100df18fabb",
   "metadata": {
    "tags": []
   },
   "outputs": [
    {
     "name": "stdout",
     "output_type": "stream",
     "text": [
      "===========================     FINANCIAL  ANALYSIS  ===========================\n",
      "                                    (10/09/2023)\n",
      " \n",
      " \n",
      "Total number of months in period: 86\n",
      " \n",
      "The net total (Profit/Loss) sum is: 38382578\n",
      " \n",
      "The firm's average of the changes in Profit/Loss is: -2315.12\n",
      " \n",
      "The firm's greatest increase was 1926159 on Feb-2012\n",
      " \n",
      "The firm's greatest decrease was -2196167 on Sep-2013\n",
      " \n",
      " \n",
      "=================================================================================\n"
     ]
    }
   ],
   "source": [
    "total_change = 0\n",
    "total_months = 0\n",
    "total_sum = 0\n",
    "biggest_increase = 0\n",
    "biggest_decrease = 0\n",
    "change = 0\n",
    "previous_value = 0\n",
    "changes = []\n",
    "\n",
    "with open (csvpath, \"r\") as csvfile:\n",
    "    csvreader = csv.reader(csvfile, delimiter=\",\")\n",
    "    csv_header = next(csvreader)\n",
    "    for row in csvreader:\n",
    "        \n",
    "    \n",
    "        total_months += 1\n",
    "        total_sum += int(row[1])\n",
    "        \n",
    "        if total_months >= 2:\n",
    "            change = int(row[1]) - previous_value\n",
    "            changes.append(change)\n",
    "        previous_value = int(row[1])\n",
    "        \n",
    "        total_change += change\n",
    "        if change > biggest_increase:\n",
    "            biggest_increase = change\n",
    "            biggest_increase_date = row[0]\n",
    "        elif change < biggest_decrease:\n",
    "            biggest_decrease = change\n",
    "            biggest_decrease_date = row[0]\n",
    "        \n",
    "            \n",
    "            \n",
    "        \n",
    "average_change = round(total_change / 85, 2)\n",
    "\n",
    "\n",
    "#Record greatest increase in profits (Date and Amount)\n",
    "#If change is greater than previous change, it becomes new change\n",
    "\n",
    "\n",
    "\n",
    "        \n",
    "print(\"===========================     FINANCIAL  ANALYSIS  ===========================\")\n",
    "print(\"                                    (10/09/2023)\")\n",
    "print(\" \")      \n",
    "print(\" \")\n",
    "print(f\"Total number of months in period: {total_months}\")\n",
    "print(\" \")\n",
    "print(f\"The net total (Profit/Loss) sum is: {total_sum}\")\n",
    "print(\" \")\n",
    "print(f\"The firm's average of the changes in Profit/Loss is: {average_change}\")\n",
    "print(\" \")\n",
    "print(f\"The firm's greatest increase was {biggest_increase} on {biggest_increase_date}\")\n",
    "print(\" \")\n",
    "print(f\"The firm's greatest decrease was {biggest_decrease} on {biggest_decrease_date}\")\n",
    "print(\" \")\n",
    "print(\" \")\n",
    "print(\"=================================================================================\")    \n"
   ]
  },
  {
   "cell_type": "code",
   "execution_count": 89,
   "id": "0339647e-a9cf-4893-ad36-43bb6674fa15",
   "metadata": {
    "tags": []
   },
   "outputs": [
    {
     "data": {
      "text/plain": [
       "<_csv.reader at 0x128174c80>"
      ]
     },
     "execution_count": 89,
     "metadata": {},
     "output_type": "execute_result"
    }
   ],
   "source": []
  },
  {
   "cell_type": "raw",
   "id": "3de0bf6a-5d01-4f7c-bf9a-7c0b34f49c05",
   "metadata": {},
   "source": []
  },
  {
   "cell_type": "code",
   "execution_count": 62,
   "id": "ba80c570-b152-4aa0-8a49-25782617963f",
   "metadata": {
    "tags": []
   },
   "outputs": [
    {
     "data": {
      "text/html": [
       "<div>\n",
       "<style scoped>\n",
       "    .dataframe tbody tr th:only-of-type {\n",
       "        vertical-align: middle;\n",
       "    }\n",
       "\n",
       "    .dataframe tbody tr th {\n",
       "        vertical-align: top;\n",
       "    }\n",
       "\n",
       "    .dataframe thead th {\n",
       "        text-align: right;\n",
       "    }\n",
       "</style>\n",
       "<table border=\"1\" class=\"dataframe\">\n",
       "  <thead>\n",
       "    <tr style=\"text-align: right;\">\n",
       "      <th></th>\n",
       "      <th>Date</th>\n",
       "      <th>Profit/Losses</th>\n",
       "    </tr>\n",
       "  </thead>\n",
       "  <tbody>\n",
       "    <tr>\n",
       "      <th>0</th>\n",
       "      <td>Jan-2010</td>\n",
       "      <td>867884</td>\n",
       "    </tr>\n",
       "    <tr>\n",
       "      <th>1</th>\n",
       "      <td>Feb-2010</td>\n",
       "      <td>984655</td>\n",
       "    </tr>\n",
       "    <tr>\n",
       "      <th>2</th>\n",
       "      <td>Mar-2010</td>\n",
       "      <td>322013</td>\n",
       "    </tr>\n",
       "    <tr>\n",
       "      <th>3</th>\n",
       "      <td>Apr-2010</td>\n",
       "      <td>-69417</td>\n",
       "    </tr>\n",
       "    <tr>\n",
       "      <th>4</th>\n",
       "      <td>May-2010</td>\n",
       "      <td>310503</td>\n",
       "    </tr>\n",
       "    <tr>\n",
       "      <th>...</th>\n",
       "      <td>...</td>\n",
       "      <td>...</td>\n",
       "    </tr>\n",
       "    <tr>\n",
       "      <th>81</th>\n",
       "      <td>Oct-2016</td>\n",
       "      <td>102685</td>\n",
       "    </tr>\n",
       "    <tr>\n",
       "      <th>82</th>\n",
       "      <td>Nov-2016</td>\n",
       "      <td>795914</td>\n",
       "    </tr>\n",
       "    <tr>\n",
       "      <th>83</th>\n",
       "      <td>Dec-2016</td>\n",
       "      <td>60988</td>\n",
       "    </tr>\n",
       "    <tr>\n",
       "      <th>84</th>\n",
       "      <td>Jan-2017</td>\n",
       "      <td>138230</td>\n",
       "    </tr>\n",
       "    <tr>\n",
       "      <th>85</th>\n",
       "      <td>Feb-2017</td>\n",
       "      <td>671099</td>\n",
       "    </tr>\n",
       "  </tbody>\n",
       "</table>\n",
       "<p>86 rows × 2 columns</p>\n",
       "</div>"
      ],
      "text/plain": [
       "        Date  Profit/Losses\n",
       "0   Jan-2010         867884\n",
       "1   Feb-2010         984655\n",
       "2   Mar-2010         322013\n",
       "3   Apr-2010         -69417\n",
       "4   May-2010         310503\n",
       "..       ...            ...\n",
       "81  Oct-2016         102685\n",
       "82  Nov-2016         795914\n",
       "83  Dec-2016          60988\n",
       "84  Jan-2017         138230\n",
       "85  Feb-2017         671099\n",
       "\n",
       "[86 rows x 2 columns]"
      ]
     },
     "execution_count": 62,
     "metadata": {},
     "output_type": "execute_result"
    }
   ],
   "source": [
    "budget_csv"
   ]
  },
  {
   "cell_type": "code",
   "execution_count": 67,
   "id": "5161b0a0-0aea-4a59-85bb-909f39fe9746",
   "metadata": {},
   "outputs": [
    {
     "name": "stdout",
     "output_type": "stream",
     "text": [
      "Date\n",
      "Profit/Losses\n"
     ]
    }
   ],
   "source": [
    "count = 0\n",
    "\n",
    "for date in budget_csv.iloc[:]:\n",
    "    print(date)\n",
    "    "
   ]
  },
  {
   "cell_type": "code",
   "execution_count": 57,
   "id": "1406fb52-f016-404e-897c-5c24244d4491",
   "metadata": {},
   "outputs": [
    {
     "data": {
      "text/plain": [
       "Date             Jan-2010\n",
       "Profit/Losses      867884\n",
       "Name: 0, dtype: object"
      ]
     },
     "execution_count": 57,
     "metadata": {},
     "output_type": "execute_result"
    }
   ],
   "source": [
    "budget_csv.iloc[0]"
   ]
  },
  {
   "cell_type": "code",
   "execution_count": null,
   "id": "f0ac023f-268a-4b43-bb03-85e695a9dc06",
   "metadata": {},
   "outputs": [],
   "source": []
  }
 ],
 "metadata": {
  "kernelspec": {
   "display_name": "Python 3 (ipykernel)",
   "language": "python",
   "name": "python3"
  },
  "language_info": {
   "codemirror_mode": {
    "name": "ipython",
    "version": 3
   },
   "file_extension": ".py",
   "mimetype": "text/x-python",
   "name": "python",
   "nbconvert_exporter": "python",
   "pygments_lexer": "ipython3",
   "version": "3.11.5"
  }
 },
 "nbformat": 4,
 "nbformat_minor": 5
}
